{
 "cells": [
  {
   "cell_type": "code",
   "execution_count": 2,
   "id": "f86dab43",
   "metadata": {},
   "outputs": [
    {
     "name": "stdout",
     "output_type": "stream",
     "text": [
      "Empty DataFrame\n",
      "Columns: []\n",
      "Index: []\n"
     ]
    }
   ],
   "source": [
    "# dataframe is two-dimensional data structure i.e. data arranged in tabular fashion in rows and columns.\n",
    "import pandas as pd\n",
    "df = pd.DataFrame()\n",
    "print(df)"
   ]
  },
  {
   "cell_type": "markdown",
   "id": "610c62b7",
   "metadata": {},
   "source": [
    "# Create a DataFrame from Lists"
   ]
  },
  {
   "cell_type": "code",
   "execution_count": 5,
   "id": "97b88c1f",
   "metadata": {},
   "outputs": [
    {
     "name": "stdout",
     "output_type": "stream",
     "text": [
      "   0\n",
      "0  1\n",
      "1  2\n",
      "2  3\n",
      "3  4\n",
      "4  5\n"
     ]
    }
   ],
   "source": [
    "data = [1,2,3,4,5]\n",
    "df = pd.DataFrame(data)\n",
    "print(df)"
   ]
  },
  {
   "cell_type": "code",
   "execution_count": 6,
   "id": "e552c742",
   "metadata": {},
   "outputs": [
    {
     "name": "stdout",
     "output_type": "stream",
     "text": [
      "     name   age\n",
      "0    Alex  10.0\n",
      "1     Bob  12.0\n",
      "2  Clarke  13.0\n"
     ]
    },
    {
     "name": "stderr",
     "output_type": "stream",
     "text": [
      "C:\\Users\\91940\\AppData\\Local\\Temp\\ipykernel_8072\\3158265186.py:2: FutureWarning: Could not cast to float64, falling back to object. This behavior is deprecated. In a future version, when a dtype is passed to 'DataFrame', either all columns will be cast to that dtype, or a TypeError will be raised.\n",
      "  df = pd.DataFrame(data, columns = ['name', 'age'], dtype = float)\n"
     ]
    }
   ],
   "source": [
    "data = [['Alex',10],['Bob',12],['Clarke',13]]\n",
    "df = pd.DataFrame(data, columns = ['name', 'age'], dtype = float)\n",
    "print(df)"
   ]
  },
  {
   "cell_type": "markdown",
   "id": "1cd165fe",
   "metadata": {},
   "source": [
    "# Create a DataFrame from Dict of ndarrays / Lists\n",
    "\n",
    "All the ndarrays must be of same length. \n",
    "If index is passed, then the length of the index should equal to the length of the arrays.\n",
    "If no index is passed, then by default, index will be range(n), where n is the array length."
   ]
  },
  {
   "cell_type": "code",
   "execution_count": 14,
   "id": "20bce974",
   "metadata": {},
   "outputs": [
    {
     "name": "stdout",
     "output_type": "stream",
     "text": [
      "    Name  Age\n",
      "0    Tom   28\n",
      "1   Jack   34\n",
      "2  Steve   29\n",
      "3  Ricky   42\n",
      "---------------------------------------\n",
      "    Name  Age\n",
      "0    Tom   28\n",
      "1   Jack   34\n",
      "2  Steve   29\n",
      "3  Ricky   42\n"
     ]
    }
   ],
   "source": [
    "data = {'Name':['Tom', 'Jack', 'Steve', 'Ricky'],'Age':[28,34,29,42]}\n",
    "df = pd.DataFrame(data)\n",
    "print(df)\n",
    "\n",
    "print('---------------------------------------')\n",
    "\n",
    "df1 = pd.DataFrame(data, index = range(len(data['Name'])))\n",
    "print(df1)"
   ]
  },
  {
   "cell_type": "markdown",
   "id": "b5a71ac5",
   "metadata": {},
   "source": [
    "# Create a DataFrame from List of Dicts"
   ]
  },
  {
   "cell_type": "code",
   "execution_count": 18,
   "id": "9de2bb95",
   "metadata": {},
   "outputs": [
    {
     "name": "stdout",
     "output_type": "stream",
     "text": [
      "        a   b     c\n",
      "first   1   2   NaN\n",
      "second  5  10  20.0\n"
     ]
    },
    {
     "name": "stderr",
     "output_type": "stream",
     "text": [
      "C:\\Users\\91940\\AppData\\Local\\Temp\\ipykernel_8072\\1507823168.py:2: FutureWarning: In a future version, passing float-dtype values containing NaN and an integer dtype will raise IntCastingNaNError (subclass of ValueError) instead of silently ignoring the passed dtype. To retain the old behavior, call Series(arr) or DataFrame(arr) without passing a dtype.\n",
      "  df = pd.DataFrame(data, dtype=int, index=['first','second'])\n"
     ]
    }
   ],
   "source": [
    "data = [{'a': 1, 'b': 2},{'a': 5, 'b': 10, 'c': 20}]\n",
    "df = pd.DataFrame(data, dtype=int, index=['first','second'])\n",
    "print(df)"
   ]
  },
  {
   "cell_type": "code",
   "execution_count": 24,
   "id": "7461954f",
   "metadata": {},
   "outputs": [
    {
     "name": "stdout",
     "output_type": "stream",
     "text": [
      "        a   b\n",
      "first   1   2\n",
      "second  5  10\n",
      "---------------------------------------------------------------------\n",
      "          a  b1     c\n",
      "first   1.0 NaN   NaN\n",
      "second  5.0 NaN  20.0\n"
     ]
    }
   ],
   "source": [
    "data = [{'a': 1, 'b': 2},{'a': 5, 'b': 10, 'c': 20}]\n",
    "df1 = pd.DataFrame(data, columns = ['a', 'b'], index = ['first', 'second'])\n",
    "print(df1)\n",
    "\n",
    "# dataframe columns must contains dictionary keys, if we specify column other than dictionary key output will result in NaN value.\n",
    "\n",
    "print('---------------------------------------------------------------------')\n",
    "\n",
    "df2 = pd.DataFrame(data, columns = ['a', 'b1', 'c'], index = ['first', 'second'], dtype = float)\n",
    "print(df2)"
   ]
  },
  {
   "cell_type": "markdown",
   "id": "fb3974b9",
   "metadata": {},
   "source": [
    "# Create a DataFrame from Dict of Series"
   ]
  },
  {
   "cell_type": "code",
   "execution_count": 26,
   "id": "6ad520fc",
   "metadata": {},
   "outputs": [
    {
     "name": "stdout",
     "output_type": "stream",
     "text": [
      "   one  two\n",
      "a  1.0    1\n",
      "b  2.0    2\n",
      "c  3.0    3\n",
      "d  NaN    4\n"
     ]
    }
   ],
   "source": [
    "data = {'one' : pd.Series([1, 2, 3], index=['a', 'b', 'c']),\n",
    "   'two' : pd.Series([1, 2, 3, 4], index=['a', 'b', 'c', 'd'])}\n",
    "\n",
    "df = pd.DataFrame(data)\n",
    "print(df)"
   ]
  },
  {
   "cell_type": "markdown",
   "id": "15acd927",
   "metadata": {},
   "source": [
    "# column selection, addition, and deletion"
   ]
  },
  {
   "cell_type": "markdown",
   "id": "661857e4",
   "metadata": {},
   "source": [
    "# column selection"
   ]
  },
  {
   "cell_type": "code",
   "execution_count": 30,
   "id": "24f7f666",
   "metadata": {},
   "outputs": [
    {
     "name": "stdout",
     "output_type": "stream",
     "text": [
      "a    1.0\n",
      "b    2.0\n",
      "c    3.0\n",
      "d    NaN\n",
      "Name: one, dtype: float64\n",
      "----------------------\n",
      "a    1\n",
      "b    2\n",
      "c    3\n",
      "d    4\n",
      "Name: two, dtype: int64\n"
     ]
    }
   ],
   "source": [
    "print(df['one'])\n",
    "print('----------------------')\n",
    "print(df['two'])"
   ]
  },
  {
   "cell_type": "markdown",
   "id": "7f01953f",
   "metadata": {},
   "source": [
    "# column addition"
   ]
  },
  {
   "cell_type": "code",
   "execution_count": 45,
   "id": "1da53ffb",
   "metadata": {},
   "outputs": [
    {
     "name": "stdout",
     "output_type": "stream",
     "text": [
      "   one  two\n",
      "a  1.0    1\n",
      "b  2.0    2\n",
      "c  3.0    3\n",
      "d  NaN    4\n",
      "---------------------------------------------------------------------\n",
      "adding new column\n",
      "   one  two  three\n",
      "a  1.0    1   10.0\n",
      "b  2.0    2   20.0\n",
      "c  3.0    3   30.0\n",
      "d  NaN    4    NaN\n",
      "---------------------------------------------------------------------\n",
      "Adding a new column using the existing columns in DataFrame:\n",
      "   one  two  three  four\n",
      "a  1.0    1   10.0   2.0\n",
      "b  2.0    2   20.0   4.0\n",
      "c  3.0    3   30.0   6.0\n",
      "d  NaN    4    NaN   NaN\n"
     ]
    }
   ],
   "source": [
    "data = {'one': pd.Series([1,2,3], index=['a','b','c']),\n",
    "        'two': pd.Series([1,2,3,4], index=['a','b','c','d'])\n",
    "       }\n",
    "\n",
    "df = pd.DataFrame(data)\n",
    "print(df)\n",
    "\n",
    "print('---------------------------------------------------------------------')\n",
    "\n",
    "print('adding new column')\n",
    "df['three'] = pd.Series([10,20,30], index=['a', 'b', 'c'])\n",
    "print(df)\n",
    "\n",
    "print('---------------------------------------------------------------------')\n",
    "\n",
    "print(\"Adding a new column using the existing columns in DataFrame:\")\n",
    "df['four'] = df['one'] + df['two']\n",
    "print(df)"
   ]
  },
  {
   "cell_type": "markdown",
   "id": "91c8d4e2",
   "metadata": {},
   "source": [
    "# column deletion"
   ]
  },
  {
   "cell_type": "code",
   "execution_count": 47,
   "id": "f400abf5",
   "metadata": {},
   "outputs": [
    {
     "name": "stdout",
     "output_type": "stream",
     "text": [
      "   one  two  three\n",
      "a  1.0    1   10.0\n",
      "b  2.0    2   20.0\n",
      "c  3.0    3   30.0\n",
      "d  NaN    4    NaN\n",
      "---------------------------------------------------------------------\n",
      "Deleting column using del keyword\n",
      "   two  three\n",
      "a    1   10.0\n",
      "b    2   20.0\n",
      "c    3   30.0\n",
      "d    4    NaN\n",
      "---------------------------------------------------------------------\n",
      "Deleting column using pop function\n",
      "   three\n",
      "a   10.0\n",
      "b   20.0\n",
      "c   30.0\n",
      "d    NaN\n"
     ]
    }
   ],
   "source": [
    "data = {'one': pd.Series([1,2,3], index=['a','b','c']),\n",
    "        'two': pd.Series([1,2,3,4], index=['a','b','c','d']),\n",
    "        'three': pd.Series([10,20,30], index=['a','b','c'])\n",
    "       }\n",
    "\n",
    "df = pd.DataFrame(data)\n",
    "\n",
    "print(df)\n",
    "\n",
    "print('---------------------------------------------------------------------')\n",
    "\n",
    "print('Deleting column using del keyword')\n",
    "\n",
    "del df['one']\n",
    "\n",
    "print(df)\n",
    "\n",
    "print('---------------------------------------------------------------------')\n",
    "\n",
    "print('Deleting column using pop function')\n",
    "\n",
    "df.pop('two')\n",
    "\n",
    "print(df)"
   ]
  },
  {
   "cell_type": "markdown",
   "id": "1f60a2f2",
   "metadata": {},
   "source": [
    "# Row Selection, Addition, and Deletion"
   ]
  },
  {
   "cell_type": "markdown",
   "id": "f7e01081",
   "metadata": {},
   "source": [
    "# row selection"
   ]
  },
  {
   "cell_type": "code",
   "execution_count": 52,
   "id": "7917d730",
   "metadata": {},
   "outputs": [
    {
     "name": "stdout",
     "output_type": "stream",
     "text": [
      "   one  two  three\n",
      "a  1.0    1   10.0\n",
      "b  2.0    2   20.0\n",
      "c  3.0    3   30.0\n",
      "d  NaN    4    NaN\n",
      "---------------------------------------------------------------------\n",
      "one       2.0\n",
      "two       2.0\n",
      "three    20.0\n",
      "Name: b, dtype: float64\n",
      "---------------------------------------------------------------------\n",
      "one       1.0\n",
      "two       1.0\n",
      "three    10.0\n",
      "Name: a, dtype: float64\n",
      "one       2.0\n",
      "two       2.0\n",
      "three    20.0\n",
      "Name: b, dtype: float64\n",
      "one       3.0\n",
      "two       3.0\n",
      "three    30.0\n",
      "Name: c, dtype: float64\n",
      "---------------------------------------------------------------------\n",
      "   one  two  three\n",
      "b  2.0    2   20.0\n"
     ]
    }
   ],
   "source": [
    "data = {'one': pd.Series([1,2,3], index=['a','b','c']),\n",
    "        'two': pd.Series([1,2,3,4], index=['a','b','c','d']),\n",
    "        'three': pd.Series([10,20,30], index=['a','b','c'])\n",
    "       }\n",
    "\n",
    "df = pd.DataFrame(data)\n",
    "\n",
    "print(df)\n",
    "\n",
    "print('---------------------------------------------------------------------')\n",
    "\n",
    "# selection by label\n",
    "\n",
    "print(df.loc['b'])\n",
    "\n",
    "print('---------------------------------------------------------------------')\n",
    "\n",
    "# selection by integer loction\n",
    "\n",
    "print(df.iloc[0])\n",
    "print(df.iloc[1])\n",
    "print(df.iloc[2])\n",
    "\n",
    "print('---------------------------------------------------------------------')\n",
    "\n",
    "# row slicing\n",
    "\n",
    "print(df[1:2])"
   ]
  },
  {
   "cell_type": "markdown",
   "id": "dfbc3e0a",
   "metadata": {},
   "source": [
    "# Addition of Rows"
   ]
  },
  {
   "cell_type": "code",
   "execution_count": 59,
   "id": "da041165",
   "metadata": {},
   "outputs": [
    {
     "name": "stdout",
     "output_type": "stream",
     "text": [
      "   a  b\n",
      "0  1  2\n",
      "1  3  4\n",
      "0  5  6\n",
      "1  7  8\n",
      "--------------------------------------------\n",
      "a    3\n",
      "b    4\n",
      "Name: 1, dtype: int64\n",
      "--------------------------------------------\n",
      "   a  b\n",
      "1  3  4\n",
      "1  7  8\n"
     ]
    },
    {
     "name": "stderr",
     "output_type": "stream",
     "text": [
      "C:\\Users\\91940\\AppData\\Local\\Temp\\ipykernel_8072\\2292844918.py:4: FutureWarning: The frame.append method is deprecated and will be removed from pandas in a future version. Use pandas.concat instead.\n",
      "  df = df.append(df2)\n"
     ]
    }
   ],
   "source": [
    "df = pd.DataFrame([[1, 2], [3, 4]], columns = ['a','b'])\n",
    "df2 = pd.DataFrame([[5, 6], [7, 8]], columns = ['a','b'])\n",
    "\n",
    "df = df.append(df2)\n",
    "print(df)\n",
    "\n",
    "print('--------------------------------------------')\n",
    "\n",
    "print(df.iloc[1])\n",
    "\n",
    "print('--------------------------------------------')\n",
    "\n",
    "print(df.loc[1])"
   ]
  },
  {
   "cell_type": "code",
   "execution_count": 61,
   "id": "f32affe8",
   "metadata": {},
   "outputs": [
    {
     "name": "stdout",
     "output_type": "stream",
     "text": [
      "   a  b\n",
      "0  1  2\n",
      "1  3  4\n",
      "0  5  6\n",
      "1  7  8\n",
      "--------------------------------------------\n",
      "   a  b\n",
      "1  3  4\n",
      "1  7  8\n"
     ]
    },
    {
     "name": "stderr",
     "output_type": "stream",
     "text": [
      "C:\\Users\\91940\\AppData\\Local\\Temp\\ipykernel_8072\\1573753193.py:4: FutureWarning: The frame.append method is deprecated and will be removed from pandas in a future version. Use pandas.concat instead.\n",
      "  df = df.append(df2)\n"
     ]
    }
   ],
   "source": [
    "df = pd.DataFrame([[1, 2], [3, 4]], columns = ['a','b'])\n",
    "df2 = pd.DataFrame([[5, 6], [7, 8]], columns = ['a','b'])\n",
    "\n",
    "df = df.append(df2)\n",
    "print(df)\n",
    "\n",
    "print('--------------------------------------------')\n",
    "\n",
    "df = df.drop(0)\n",
    "\n",
    "print(df)"
   ]
  },
  {
   "cell_type": "code",
   "execution_count": null,
   "id": "017e24eb",
   "metadata": {},
   "outputs": [],
   "source": []
  }
 ],
 "metadata": {
  "kernelspec": {
   "display_name": "Python 3 (ipykernel)",
   "language": "python",
   "name": "python3"
  },
  "language_info": {
   "codemirror_mode": {
    "name": "ipython",
    "version": 3
   },
   "file_extension": ".py",
   "mimetype": "text/x-python",
   "name": "python",
   "nbconvert_exporter": "python",
   "pygments_lexer": "ipython3",
   "version": "3.10.4"
  }
 },
 "nbformat": 4,
 "nbformat_minor": 5
}
